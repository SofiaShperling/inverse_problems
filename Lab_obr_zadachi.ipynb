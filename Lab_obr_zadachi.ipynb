{
 "cells": [
  {
   "cell_type": "code",
   "execution_count": 1109,
   "outputs": [],
   "source": [
    "from numbers import Number\n",
    "\n",
    "\n",
    "MIN_S: Number = 0\n",
    "MAX_S: Number = 5\n",
    "\n",
    "MIN_T: Number = 0 \n",
    "MAX_T: Number = 4\n",
    "\n",
    "\n"
   ],
   "metadata": {
    "collapsed": false,
    "pycharm": {
     "name": "#%%\n"
    }
   }
  },
  {
   "cell_type": "code",
   "execution_count": 1110,
   "metadata": {},
   "outputs": [],
   "source": [
    "import numpy as np \n",
    "\n",
    "def q_exact(arg_s):\n",
    "    if 0 <= arg_s <= 2:\n",
    "        return 1\n",
    "    \n",
    "    elif 2 < arg_s <= 5:\n",
    "        return 2\n",
    "\n",
    "def kernel(arg_t, arg_s):\n",
    "\n",
    "    return 1 / (arg_s + arg_t + 2)\n",
    "\n",
    "def func(arg_t):\n",
    "\n",
    "    return 2*np.log(arg_t + 7) - np.log(arg_t + 2) - np.log(arg_t + 4)\n",
    "\n",
    "def inf(arg_s):\n",
    "\n",
    "    return arg_s\n",
    "\n"
   ]
  },
  {
   "cell_type": "code",
   "execution_count": 1111,
   "metadata": {},
   "outputs": [],
   "source": [
    "from typing import Callable, Tuple, List \n",
    "\n",
    "\n",
    "def slau_generator(\n",
    "    ker: Callable,\n",
    "    func: Callable,\n",
    "    n_point: int) -> Tuple[np.array, np.array, np.array]:\n",
    "\n",
    "    grid_s = np.linspace(MIN_S, MAX_S, n_point)\n",
    "    grid_t = np.linspace(MIN_T, MAX_T, n_point)\n",
    "    h_s = (MAX_S - MIN_S) / (n_point - 1)\n",
    "    \n",
    "    matrix = h_s * np.array( [ [ker(t, grid_s[0]) / 2] + [ker(t, s) for s in grid_s[1:-1]]\n",
    "                              + [ker(t, grid_s[-1]) / 2] for t in grid_t] )\n",
    "    target = np.array( [func(t) for t in grid_t] )\n",
    "    return matrix, target, grid_s\n",
    "\n",
    "\n",
    "def get_error(\n",
    "    exact_solution,\n",
    "    approx_solution,\n",
    "    grid):\n",
    "\n",
    "    return max( abs(exact_solution(grid[idx]) - approx_solution[idx]) \n",
    "               for idx in range(grid.shape[0]) )\n",
    "\n",
    "\n",
    "def converage_process(\n",
    "    mesh_sizes,\n",
    "    ker,\n",
    "    func,\n",
    "    exact_solution) :\n",
    "    \n",
    "    errors = list()\n",
    "    conditions= list()\n",
    "    solutions= list()\n",
    "    # singular_max = list()\n",
    "    # singular_min = list()\n",
    "\n",
    "    for n_point in mesh_sizes:\n",
    "        matrix, target, grid = slau_generator(ker, func, n_point)\n",
    "\n",
    "        # print(np.linalg.det(matrix))\n",
    "        conditions.append(np.linalg.cond(matrix))\n",
    "        approx_solution = np.linalg.solve(matrix, target)\n",
    "        solutions.append((grid, approx_solution))\n",
    "        errors.append( get_error(exact_solution, approx_solution, grid) )\n",
    "        # U, s, V = np.linalg.svd(matrix, full_matrices= True)\n",
    "        # # print(s)\n",
    "        # print(max(s))\n",
    "        # print(min(s))\n",
    "        # singular_max.append(max(s))\n",
    "        # singular_min.append(min(s))\n",
    "        # fig = plt.figure()\n",
    "        # ax = fig.add_subplot()\n",
    "        # print(len(s))\n",
    "        # print(np.log(s))\n",
    "        # ax.plot(np.log(s))\n",
    "        # plt.ylabel('Логарифм сингулярного числа', fontsize= 12)\n",
    "        # plt.title('Размерность сетки: ' + str(n_point))\n",
    "        # plt.savefig('сингулярные числа' + str(n_point))\n",
    "        # plt.show()\n",
    "        \n",
    "    return errors, conditions, solutions\n"
   ]
  },
  {
   "cell_type": "code",
   "execution_count": 1112,
   "metadata": {},
   "outputs": [],
   "source": [
    "from matplotlib import pyplot as plt \n",
    "\n"
   ]
  },
  {
   "cell_type": "code",
   "execution_count": 1113,
   "metadata": {},
   "outputs": [],
   "source": [
    "def plot_result(\n",
    "    x_coords,\n",
    "    y_coords,\n",
    "    xlabel,\n",
    "    ylabel,\n",
    "    figsize : Tuple[int] = (8, 6)):\n",
    "    \n",
    "    plt.figure(\n",
    "        figsize= figsize\n",
    "    )\n",
    "    \n",
    "    plt.xlabel(\n",
    "        f'{xlabel}',\n",
    "        fontsize= 12\n",
    "    )\n",
    "    \n",
    "    plt.ylabel(\n",
    "        f'{ylabel}',\n",
    "        fontsize= 12\n",
    "    )\n",
    "    \n",
    "    plt.plot(\n",
    "        x_coords,\n",
    "        y_coords,\n",
    "        # color= 'red'\n",
    "    )\n",
    "    plt.title(\"Шум 10%\")\n",
    "    # plt.grid()\n",
    "    plt.savefig('Tih5.png')\n",
    "\n"
   ]
  },
  {
   "cell_type": "code",
   "execution_count": 1114,
   "metadata": {},
   "outputs": [
    {
     "name": "stdout",
     "output_type": "stream",
     "text": [
      "[574.3181564648219, 274.1862709802503, 1684.9889735458667]\n"
     ]
    }
   ],
   "source": [
    "# mesh_sizes= 20, 50, 100, 120, 130, 140, 150, 160, 170, 180, 190, 200, 250, 300, 350, 400, 450, 500, 550, 600\n",
    "# mesh_sizes = np.linspace(0, 500, 51)\n",
    "mesh_sizes = 20, 50, 100\n",
    "errors, conditions, solutions = converage_process(\n",
    "    mesh_sizes, \n",
    "    kernel, \n",
    "    func, \n",
    "    exact_solution= q_exact)\n",
    "\n",
    "print(errors)"
   ]
  },
  {
   "cell_type": "code",
   "execution_count": 1115,
   "metadata": {},
   "outputs": [
    {
     "data": {
      "text/plain": "<Figure size 576x432 with 1 Axes>",
      "image/png": "[encoded data removed]"
     },
     "metadata": {
      "needs_background": "light"
     },
     "output_type": "display_data"
    }
   ],
   "source": [
    "plot_result(\n",
    "    x_coords= mesh_sizes,\n",
    "    y_coords= errors,\n",
    "    xlabel= 'Размерность сетки',\n",
    "    ylabel= 'Погрешность'\n",
    ")\n",
    "\n"
   ]
  },
  {
   "cell_type": "code",
   "execution_count": 1116,
   "metadata": {},
   "outputs": [
    {
     "data": {
      "text/plain": "<Figure size 576x432 with 1 Axes>",
      "image/png": "[encoded data removed]"
     },
     "metadata": {
      "needs_background": "light"
     },
     "output_type": "display_data"
    }
   ],
   "source": [
    "plot_result(\n",
    "    x_coords= mesh_sizes,\n",
    "    y_coords= conditions,\n",
    "    xlabel= 'Размерность сетки',\n",
    "    ylabel= 'Обусловленность'\n",
    ")\n",
    "\n"
   ]
  },
  {
   "cell_type": "code",
   "execution_count": 1117,
   "metadata": {},
   "outputs": [
    {
     "data": {
      "text/plain": "[4.597319425499832e+19, 4.716440195837536e+18, 4.1314993601646486e+19]"
     },
     "execution_count": 1117,
     "metadata": {},
     "output_type": "execute_result"
    }
   ],
   "source": [
    "conditions\n"
   ]
  },
  {
   "cell_type": "code",
   "execution_count": 1118,
   "metadata": {},
   "outputs": [
    {
     "name": "stdout",
     "output_type": "stream",
     "text": [
      "Минимальная погршеность: 274.1862709802503. \n",
      "Максимальное число обусловленности: 4.597319425499832e+19.\n"
     ]
    }
   ],
   "source": [
    "print(f\"Минимальная погршеность: {min(errors)}. \\nМаксимальное число обусловленности: {max(conditions)}.\" )\n",
    "\n",
    "\n"
   ]
  },
  {
   "cell_type": "code",
   "execution_count": 1119,
   "metadata": {},
   "outputs": [],
   "source": [
    "# plot_result(\n",
    "#     x_coords= solutions[3][0],\n",
    "#     y_coords= solutions[3][1],\n",
    "#     xlabel= 'Координата x',\n",
    "#     ylabel= 'Численное решение для 80 узлов'\n",
    "# )\n",
    "#\n",
    "#\n",
    "#"
   ]
  },
  {
   "cell_type": "code",
   "execution_count": 1120,
   "metadata": {},
   "outputs": [],
   "source": [
    "# plot_result(\n",
    "#     x_coords= solutions[4][0],\n",
    "#     y_coords= solutions[4][1],\n",
    "#     xlabel= 'Координата x',\n",
    "#     ylabel= 'Численное решение для 160 узлов'\n",
    "# )\n",
    "#\n",
    "#\n",
    "#"
   ]
  },
  {
   "cell_type": "code",
   "execution_count": 1121,
   "metadata": {},
   "outputs": [],
   "source": [
    "# plot_result(\n",
    "#     x_coords= solutions[-1][0],\n",
    "#     y_coords= solutions[-1][1],\n",
    "#     xlabel= 'Координата x',\n",
    "#     ylabel= 'Численное решение для 640 узлов'\n",
    "# )"
   ]
  },
  {
   "cell_type": "code",
   "execution_count": 1122,
   "metadata": {},
   "outputs": [],
   "source": [
    "n_point = 100\n",
    "\n"
   ]
  },
  {
   "cell_type": "code",
   "execution_count": 1123,
   "metadata": {},
   "outputs": [
    {
     "data": {
      "text/plain": "4.1314993601646486e+19"
     },
     "execution_count": 1123,
     "metadata": {},
     "output_type": "execute_result"
    }
   ],
   "source": [
    "matrix, f_true, grid = slau_generator(kernel, func, n_point)\n",
    "\n",
    "np.linalg.cond(matrix)"
   ]
  },
  {
   "cell_type": "code",
   "execution_count": 1124,
   "metadata": {},
   "outputs": [],
   "source": [
    "def noise_generator(noise_level, f_true):\n",
    "    noise = 2 * np.random.rand(f_true.size) - 1\n",
    "    # noise = [ 0.29672384,  0.89679879,  0.32394019, -0.59590013,  0.77587521,  0.80215458,\n",
    "    #  -0.97822883, -0.87481714, -0.15573482,  0.93820837,  0.46836747,  0.02636181,\n",
    "    #  -0.5092068,  -0.68210331,  0.69545505, -0.03276671, -0.20351277, -0.67502608,\n",
    "    #   0.60697412, 0.92507533,  0.3320308,  -0.59430149, -0.3408032,  -0.11054237,\n",
    "    #  -0.08881155, -0.66380981, -0.89125469, -0.00321755, -0.51517679, -0.46918769,\n",
    "    #   0.5044113,  -0.3658952,  -0.16620216, 0.09517337, -0.21716945, -0.09960256,\n",
    "    #   0.80770855, -0.38304193, -0.67456797, -0.18624974, 0.94631067,  0.93182165,\n",
    "    #   0.96000342,  0.08705131, 0.28388591,  0.27567144, -0.77212493, 0.83227553,\n",
    "    #   0.99226791, -0.69606992,  0.18104669,  0.09330949, -0.30025647,  0.27339862,\n",
    "    #   0.44066512,  0.4675609,   0.96373497, -0.86308577, 0.14821563, 0.60239658,\n",
    "    #   0.67337414, -0.57041606, -0.62161865,  0.56278297,  0.19117157, -0.78753964,\n",
    "    #  -0.25456562, -0.30186402, -0.82696965,  0.55409843, 0.90435614,  0.10319454,\n",
    "    #   0.94707833, -0.21604635, -0.99869309,  0.09578786, -0.28484379, -0.86921519,\n",
    "    #  -0.4016352,  -0.83906778, -0.73366924, -0.05563562,  0.30632869, -0.17683267,\n",
    "    #   0.35986711, -0.49677676, -0.18576777,  0.73452678 , 0.09561038, -0.9870628,\n",
    "    #   0.68311495, -0.38079408, -0.10192061,  0.58059355, -0.6275193,  -0.79376574,\n",
    "    #   0.97740374, -0.60713037,  0.21966948, -0.0253024 ]\n",
    "\n",
    "    return f_true + noise_level * noise\n"
   ]
  },
  {
   "cell_type": "code",
   "execution_count": 1125,
   "metadata": {},
   "outputs": [
    {
     "name": "stdout",
     "output_type": "stream",
     "text": [
      "[-0.58413435 -0.96354053  0.27321354  0.49614981 -0.52302892  0.97069155\n",
      "  0.68581603 -0.38352559  0.6017112  -0.88928079 -0.10946661  0.37952639\n",
      " -0.28959893  0.42344994  0.83894022  0.29701573  0.9958756   0.03276975\n",
      " -0.680417   -0.71785188  0.46111348 -0.6579342   0.85003871 -0.97274759\n",
      " -0.03038804 -0.35114804  0.92498465  0.94063743  0.19293498  0.20004231\n",
      " -0.63889335 -0.91296733 -0.85617877 -0.46697047 -0.62892338 -0.28785438\n",
      " -0.70627258  0.88444964  0.79122005 -0.05103255  0.61434571 -0.86652967\n",
      " -0.9233612   0.9906337   0.27200877  0.88685061  0.30925537 -0.51348523\n",
      "  0.61826244 -0.00352515 -0.94163967 -0.65651619 -0.81203668  0.53154197\n",
      "  0.69005528 -0.49238495 -0.66555177  0.71846845  0.54320523  0.5935457\n",
      "  0.40790982  0.31953554 -0.50113335 -0.31595705 -0.33503961 -0.49647091\n",
      " -0.80512062 -0.94696066  0.44388864 -0.48473695  0.44043454 -0.387479\n",
      "  0.34412233  0.46769892  0.87788277  0.48289409 -0.36211735 -0.85840157\n",
      "  0.95537893 -0.82643342 -0.85527651  0.0446326   0.27698752  0.7306792\n",
      "  0.50327654  0.26101052  0.57129304 -0.80887494  0.28916283 -0.16208674\n",
      " -0.42333097 -0.6390397  -0.91582278  0.44137926  0.03134379 -0.6684553\n",
      " -0.86624552 -0.16696817 -0.36981901  0.1608873 ]\n",
      "[ 0.91596452  0.46058014 -0.68523636 -0.15612495 -0.26199534  0.91697517\n",
      " -0.64587105 -0.04412865  0.0376767   0.41375191 -0.81228009  0.9903726\n",
      " -0.54736792  0.11173002  0.34105305  0.644668    0.99350877  0.69210497\n",
      " -0.2696505   0.95282286 -0.99780517  0.22868489 -0.74746482 -0.0276813\n",
      "  0.94185691 -0.77507417 -0.26058435  0.95462885 -0.01613857 -0.34411441\n",
      "  0.17226406 -0.37467163 -0.20446188  0.1809276   0.76282866 -0.28818064\n",
      "  0.98031862 -0.18092466  0.47023391 -0.81463073 -0.7619211   0.85569104\n",
      "  0.06288615 -0.48832218 -0.02922301  0.68582588  0.26446242  0.90399448\n",
      " -0.28020869 -0.37439999 -0.53684872 -0.18821333  0.3601487  -0.75212507\n",
      " -0.90122049  0.39019133  0.64668733  0.7302575  -0.24677398 -0.77884963\n",
      "  0.53889895 -0.3237944   0.66362844 -0.69851399 -0.424507    0.13792156\n",
      " -0.56814122 -0.32421778 -0.05814841 -0.82683991  0.88570544  0.17215062\n",
      "  0.38665067 -0.7641109  -0.38511279 -0.09920859 -0.27225599  0.26441988\n",
      " -0.30248082  0.80177473 -0.64475246  0.02361568 -0.09411378  0.43554687\n",
      "  0.1377331  -0.66593412 -0.53592279  0.21851149  0.45784117  0.72538112\n",
      "  0.49598897  0.33039915 -0.22428348  0.93926298  0.68608456  0.0533077\n",
      " -0.15742551 -0.69678629 -0.38102416  0.52702602]\n",
      "[ 0.80604011 -0.49198403 -0.47592138 -0.41615856  0.97925913  0.25752489\n",
      " -0.74429231 -0.08373655 -0.70310578 -0.05215337  0.33556769  0.84321656\n",
      " -0.60086447  0.52152063  0.37302269  0.31213686 -0.83795866  0.79945034\n",
      " -0.04648368  0.8603096  -0.67187869  0.54604874  0.74531583 -0.244519\n",
      "  0.04446097 -0.49707676  0.22291487 -0.39118465  0.46127633  0.78155131\n",
      "  0.97627501 -0.63129223 -0.29490714 -0.3361224   0.65345654 -0.69100473\n",
      "  0.97341724 -0.47369211 -0.7063439  -0.69986247  0.20536185  0.41992774\n",
      " -0.87422493  0.33378463 -0.99628752  0.18640904 -0.31328245 -0.6648342\n",
      " -0.23677547 -0.20407067 -0.22770264 -0.12535258 -0.95388731  0.01616581\n",
      "  0.21341426 -0.74674444  0.67282194 -0.82237285 -0.8032976  -0.6362782\n",
      "  0.22796271  0.95861449  0.40092133 -0.19980306  0.42638257 -0.58851292\n",
      " -0.89716434 -0.78094469  0.63604567 -0.49535325 -0.0653773   0.47875791\n",
      "  0.46756164  0.53062014  0.8885895  -0.27093115  0.05755473  0.43185585\n",
      " -0.57827033  0.2045986   0.88601338  0.72692888  0.83916265 -0.23227504\n",
      " -0.84122649 -0.57446754  0.94229534  0.86602848  0.21241006 -0.92704324\n",
      " -0.57186919 -0.37997904 -0.20011219 -0.32129121 -0.70875254 -0.57994496\n",
      " -0.84990247  0.94003363 -0.36034178  0.38861694]\n",
      "[ 0.91066913  0.22275015  0.99835356 -0.42135094  0.77009089 -0.05553549\n",
      "  0.69630808 -0.85236981  0.17523485 -0.84836831 -0.14180403  0.87439475\n",
      " -0.05928041 -0.06719368 -0.58704755  0.62052555 -0.32893353  0.9920589\n",
      "  0.05956007 -0.61542871 -0.09266327  0.42628736  0.05291114 -0.41467462\n",
      "  0.30477355  0.75920294 -0.49042834  0.15224025 -0.08333427  0.95902401\n",
      " -0.42191347  0.28545057 -0.24936023 -0.08386558  0.41086574  0.73687139\n",
      "  0.55538382 -0.51753887 -0.33679065 -0.63512784 -0.59439152  0.40778133\n",
      " -0.49985597  0.30712332 -0.909462   -0.80695301 -0.66924336 -0.65510738\n",
      "  0.20690402  0.2166899   0.37159894  0.09405343 -0.64113912 -0.93831161\n",
      " -0.78204012 -0.4302865   0.49856946 -0.95643091 -0.2378498   0.79238806\n",
      "  0.66622834  0.17042776  0.29367587  0.31167757  0.66595574  0.35766985\n",
      "  0.79098741 -0.39495437 -0.04942779 -0.45114002 -0.09583809  0.45711619\n",
      " -0.10810323 -0.05104018 -0.77749944  0.36375198  0.25881205  0.46789324\n",
      " -0.31326816 -0.13046053  0.42634016 -0.05583495 -0.78247977 -0.1130909\n",
      " -0.61324699 -0.39265721  0.9397248   0.7356395  -0.62490849 -0.59698667\n",
      "  0.56598671  0.03553528  0.70114067 -0.72934135 -0.6442308  -0.9944202\n",
      "  0.70949843 -0.24942078  0.1593287   0.55606906]\n"
     ]
    }
   ],
   "source": [
    "errors_noise_case = dict()\n",
    "levels = 0.01, 0.03, 0.05, 0.1\n",
    "\n",
    "for noise_level in levels:\n",
    "    print(2 * np.random.rand(f_true.size) - 1)\n",
    "    approx_solution = np.linalg.solve(matrix, noise_generator(noise_level, f_true))\n",
    "    errors_noise_case[noise_level] = get_error(q_exact, approx_solution, grid)\n",
    "\n",
    "    "
   ]
  },
  {
   "cell_type": "code",
   "execution_count": 1126,
   "metadata": {},
   "outputs": [
    {
     "data": {
      "text/plain": "{0.01: 7614285061169792.0,\n 0.03: 4.444649886203537e+16,\n 0.05: 6.012084732867267e+16,\n 0.1: 6.219819371762496e+16}"
     },
     "execution_count": 1126,
     "metadata": {},
     "output_type": "execute_result"
    }
   ],
   "source": [
    "errors_noise_case\n",
    "\n"
   ]
  },
  {
   "cell_type": "code",
   "execution_count": 1127,
   "metadata": {},
   "outputs": [],
   "source": [
    "approx_solution = np.linalg.solve(matrix, f_true)\n",
    "\n"
   ]
  },
  {
   "cell_type": "code",
   "execution_count": 1128,
   "metadata": {},
   "outputs": [
    {
     "data": {
      "text/plain": "1684.9889735458667"
     },
     "execution_count": 1128,
     "metadata": {},
     "output_type": "execute_result"
    }
   ],
   "source": [
    "get_error(q_exact, approx_solution, grid)"
   ]
  },
  {
   "cell_type": "code",
   "execution_count": 1129,
   "metadata": {},
   "outputs": [
    {
     "name": "stdout",
     "output_type": "stream",
     "text": [
      "Число обусловленности: 4.1314993601646486e+19\n"
     ]
    }
   ],
   "source": [
    "print(f\"Число обусловленности: {np.linalg.cond(matrix)}\")"
   ]
  },
  {
   "cell_type": "code",
   "execution_count": 1130,
   "metadata": {},
   "outputs": [],
   "source": [
    "def get_partial_solution(\n",
    "    noise_level,\n",
    "    amount,\n",
    "    U,\n",
    "    s,\n",
    "    V,\n",
    "    f):\n",
    "    \n",
    "    f = noise_generator(noise_level, f)\n",
    "    U, s, V = U[:, :amount], s[:amount], V[:amount, :]\n",
    "        \n",
    "    approx_solution = U.T @ f \n",
    "    approx_solution = np.diag(1 / s) @ approx_solution \n",
    "    approx_solution = V.conj().T @ approx_solution \n",
    "    \n",
    "    return approx_solution\n",
    "\n",
    "\n",
    "\n",
    "def partial_svd(\n",
    "    noise_level,\n",
    "    min_amount,\n",
    "    max_amount,\n",
    "    matrix,\n",
    "    f_true,\n",
    "    grid):\n",
    "    \n",
    "    U, s, V = np.linalg.svd(matrix, full_matrices= True)\n",
    "    errors = list()\n",
    "    \n",
    "    for amount in range(min_amount, max_amount + 1):\n",
    "        approx_solution = get_partial_solution(noise_level, amount, U, s, V, f_true)\n",
    "        errors.append( get_error(q_exact, approx_solution, grid))\n",
    "    \n",
    "    return list(range(min_amount, max_amount + 1)), errors"
   ]
  },
  {
   "cell_type": "code",
   "execution_count": 1131,
   "metadata": {},
   "outputs": [],
   "source": [
    "amounts, errors = partial_svd(\n",
    "    noise_level= 0.05,\n",
    "    min_amount= 1,\n",
    "    max_amount= 15,\n",
    "    matrix= matrix,\n",
    "    f_true= f_true,\n",
    "    grid= grid    \n",
    ")"
   ]
  },
  {
   "cell_type": "code",
   "execution_count": 1132,
   "metadata": {},
   "outputs": [
    {
     "data": {
      "text/plain": "<Figure size 576x432 with 1 Axes>",
      "image/png": "[encoded data removed]"
     },
     "metadata": {
      "needs_background": "light"
     },
     "output_type": "display_data"
    }
   ],
   "source": [
    "plot_result(\n",
    "    x_coords= amounts,\n",
    "    y_coords= np.log(errors),\n",
    "    xlabel= \"\",\n",
    "    ylabel= \"Логарифм погрешности\"\n",
    ")"
   ]
  },
  {
   "cell_type": "code",
   "execution_count": 1133,
   "metadata": {},
   "outputs": [],
   "source": [
    "def plot_comparison(\n",
    "    x_coords,\n",
    "    approx_solve,\n",
    "    title,\n",
    "    xlabel = '',\n",
    "    ylabel = '',\n",
    "    figsize: Tuple[int] = (8, 6)) :\n",
    "    \n",
    "    plt.figure(\n",
    "        figsize= figsize\n",
    "    )\n",
    "    \n",
    "    plt.xlabel(\n",
    "        f'{xlabel}',\n",
    "        fontsize= 14\n",
    "    )\n",
    "    \n",
    "    plt.ylabel(\n",
    "        f'{ylabel}',\n",
    "        fontsize= 14\n",
    "    )\n",
    "    \n",
    "    plt.title(\n",
    "        f'{title}',\n",
    "        fontsize= 14\n",
    "    )\n",
    "    \n",
    "    plt.plot(x_coords, approx_solve, label= \"Численное решение\")\n",
    "    plt.plot(x_coords, list(map(q_exact, x_coords)), label= \"Точное решение\")\n",
    "    plt.legend(loc= 'upper left')\n",
    "    \n",
    "    # plt.grid()\n",
    "\n",
    "    plt.savefig('TR_svd_bad5.png')\n",
    "    \n",
    "    "
   ]
  },
  {
   "cell_type": "code",
   "execution_count": 1134,
   "metadata": {},
   "outputs": [],
   "source": [
    "U, s, V = np.linalg.svd(matrix, full_matrices= True)\n",
    "amount = 4\n",
    "noise_level = 0.05\n",
    "approx_solution = get_partial_solution(noise_level, amount, U, s, V, f_true)\n",
    "\n"
   ]
  },
  {
   "cell_type": "code",
   "execution_count": 1135,
   "metadata": {},
   "outputs": [
    {
     "data": {
      "text/plain": "<Figure size 576x432 with 1 Axes>",
      "image/png": "[encoded data removed]"
     },
     "metadata": {
      "needs_background": "light"
     },
     "output_type": "display_data"
    }
   ],
   "source": [
    "plot_comparison(\n",
    "    x_coords= grid,\n",
    "    approx_solve= approx_solution,\n",
    "    title= f\"Поведение численного решения при {amount} сингулярных числах. Шум {int(noise_level * 100)}%\")\n",
    "\n"
   ]
  },
  {
   "cell_type": "code",
   "execution_count": 1136,
   "metadata": {},
   "outputs": [
    {
     "name": "stdout",
     "output_type": "stream",
     "text": [
      "Погрешность 229.501138637437.\n"
     ]
    }
   ],
   "source": [
    "print(f\"Погрешность {get_error(q_exact, approx_solution, grid)}.\")\n",
    "\n"
   ]
  },
  {
   "cell_type": "code",
   "execution_count": 1137,
   "metadata": {},
   "outputs": [],
   "source": [
    "amounts, errors = partial_svd(\n",
    "    noise_level= 0.1,\n",
    "    min_amount= 1,\n",
    "    max_amount= 15,\n",
    "    matrix= matrix,\n",
    "    f_true= f_true,\n",
    "    grid= grid    \n",
    ")\n",
    "\n"
   ]
  },
  {
   "cell_type": "code",
   "execution_count": 1138,
   "metadata": {},
   "outputs": [],
   "source": [
    "# plot_result(\n",
    "#     x_coords= amounts,\n",
    "#     y_coords= np.log(errors),\n",
    "#     # xlabel= \"Количество сингулярных чисел\",\n",
    "#     xlabel=\"\",\n",
    "#     ylabel= \"Логарифм погрешности\"\n",
    "# )\n",
    "\n"
   ]
  },
  {
   "cell_type": "code",
   "execution_count": 1139,
   "metadata": {},
   "outputs": [],
   "source": [
    "U, s, V = np.linalg.svd(matrix, full_matrices= True)\n",
    "amount = 2\n",
    "noise_level = 0.1\n",
    "approx_solution = get_partial_solution(noise_level, amount, U, s, V, f_true)\n",
    "\n"
   ]
  },
  {
   "cell_type": "code",
   "execution_count": 1140,
   "metadata": {},
   "outputs": [],
   "source": [
    "# plot_comparison(\n",
    "#     x_coords= grid,\n",
    "#     approx_solve= approx_solution,\n",
    "#     title= f\"Поведение численного решения при {amount} сингулярных числах. Шум {int(noise_level * 100)}%\"\n",
    "# )\n",
    "\n"
   ]
  },
  {
   "cell_type": "code",
   "execution_count": 1141,
   "metadata": {},
   "outputs": [
    {
     "name": "stdout",
     "output_type": "stream",
     "text": [
      "Погрешность 1.1181812176654287.\n"
     ]
    }
   ],
   "source": [
    "print(f\"Погрешность {get_error(q_exact, approx_solution, grid)}.\")\n",
    "\n",
    "\n",
    "\n",
    "\n",
    "def Tikhonov_solver(\n",
    "    matrix,\n",
    "    f,\n",
    "    noise_level,\n",
    "    reg_param):\n",
    "    noise_level = 0.02\n",
    "    f = noise_generator(noise_level, f)\n",
    "    trust_param = 0.2\n",
    "    approx_solve = np.linalg.solve(\n",
    "        matrix.T @ matrix + reg_param * np.eye(matrix.shape[0]),\n",
    "        matrix.T @ f)\n",
    "    return approx_solve\n",
    "\n",
    "def find_reg_param(\n",
    "    matrix,\n",
    "    f_true,\n",
    "    grid,\n",
    "    noise_level):\n",
    "    \n",
    "    param_set = np.linspace(0.00001, 0.00002, 100)\n",
    "    errors = list()\n",
    "    min = 1000\n",
    "    min_error = None\n",
    "    for param in param_set:\n",
    "        approx_solve = Tikhonov_solver(matrix, f_true, noise_level, param)\n",
    "        error = get_error(q_exact, approx_solve, grid)\n",
    "        if min > error:\n",
    "            min = param\n",
    "            min_error = error\n",
    "        errors.append(error)\n",
    "    print(min)\n",
    "    print(min_error)\n",
    "    \n",
    "    return param_set, errors\n",
    "\n",
    "\n",
    "def Tikhonov_solver_inf(\n",
    "    matrix,\n",
    "    f,\n",
    "    noise_level,\n",
    "    reg_param):\n",
    "    noise_level = 0.02\n",
    "    f = noise_generator(noise_level, f)\n",
    "    trust_param = 0.2\n",
    "    approx_solve = np.linalg.solve(\n",
    "        matrix.T @ matrix + reg_param * np.eye(matrix.shape[0]) + trust_param * np.eye(matrix.shape[0]),\n",
    "        matrix.T @ f)\n",
    "    return approx_solve\n",
    "\n",
    "def find_reg_param_inf(\n",
    "    matrix,\n",
    "    f_true,\n",
    "    grid,\n",
    "    noise_level):\n",
    "\n",
    "    param_set = np.linspace(0.00001, 0.00002, 100)\n",
    "    errors = list()\n",
    "    min = 1000\n",
    "    min_error = None\n",
    "    for param in param_set:\n",
    "        approx_solve = Tikhonov_solver_inf(matrix, f_true, noise_level, param)\n",
    "        error = get_error(q_exact, approx_solve, grid)\n",
    "        if min > error:\n",
    "            min = param\n",
    "            min_error = error\n",
    "        errors.append(error)\n",
    "    print(min)\n",
    "    print(min_error)\n",
    "\n",
    "    return param_set, errors\n"
   ]
  },
  {
   "cell_type": "code",
   "execution_count": 1142,
   "metadata": {},
   "outputs": [
    {
     "name": "stdout",
     "output_type": "stream",
     "text": [
      "1e-05\n",
      "0.9964224098861718\n"
     ]
    }
   ],
   "source": [
    "noise_level= 0.05\n",
    "param_set, errors = find_reg_param(\n",
    "    matrix, \n",
    "    f_true,\n",
    "    grid,\n",
    "    noise_level\n",
    ")\n",
    "\n"
   ]
  },
  {
   "cell_type": "code",
   "execution_count": 1143,
   "metadata": {},
   "outputs": [
    {
     "data": {
      "text/plain": "<Figure size 576x432 with 1 Axes>",
      "image/png": "[encoded data removed]"
     },
     "metadata": {
      "needs_background": "light"
     },
     "output_type": "display_data"
    }
   ],
   "source": [
    "plot_result(\n",
    "    x_coords= param_set,\n",
    "    y_coords= np.log(errors),\n",
    "    xlabel= \"Параметр регуляризации\",\n",
    "    ylabel= f\"Логарифм погрешности\"\n",
    ")\n"
   ]
  },
  {
   "cell_type": "code",
   "execution_count": 1144,
   "metadata": {},
   "outputs": [
    {
     "name": "stdout",
     "output_type": "stream",
     "text": [
      "1.0101010101010101e-05\n"
     ]
    }
   ],
   "source": [
    "print(param_set[1])"
   ]
  },
  {
   "cell_type": "code",
   "execution_count": 1145,
   "metadata": {},
   "outputs": [],
   "source": [
    "approx_solution = Tikhonov_solver(matrix, f_true, noise_level, 0.00001)\n",
    "\n"
   ]
  },
  {
   "cell_type": "code",
   "execution_count": 1146,
   "metadata": {},
   "outputs": [
    {
     "data": {
      "text/plain": "<Figure size 576x432 with 1 Axes>",
      "image/png": "[encoded data removed]"
     },
     "metadata": {
      "needs_background": "light"
     },
     "output_type": "display_data"
    }
   ],
   "source": [
    "plot_comparison(\n",
    "    x_coords= grid,\n",
    "    approx_solve= approx_solution,\n",
    "    title= f\"Поведение численного решения. Шум {int(noise_level * 100)}%\"\n",
    ")\n",
    "\n"
   ]
  },
  {
   "cell_type": "code",
   "execution_count": 1147,
   "metadata": {},
   "outputs": [
    {
     "name": "stdout",
     "output_type": "stream",
     "text": [
      "Погрешность 0.9918754058723094\n"
     ]
    }
   ],
   "source": [
    "print(f\"Погрешность {get_error(q_exact, approx_solution, grid)}\")"
   ]
  },
  {
   "cell_type": "code",
   "execution_count": 1148,
   "outputs": [],
   "source": [
    "approx_solution_inf = Tikhonov_solver_inf(matrix, f_true, noise_level, 0.00001)\n",
    "\n"
   ],
   "metadata": {
    "collapsed": false,
    "pycharm": {
     "name": "#%%\n"
    }
   }
  },
  {
   "cell_type": "code",
   "execution_count": 1149,
   "outputs": [
    {
     "data": {
      "text/plain": "<Figure size 576x432 with 1 Axes>",
      "image/png": "[encoded data removed]"
     },
     "metadata": {
      "needs_background": "light"
     },
     "output_type": "display_data"
    }
   ],
   "source": [
    "plot_comparison(\n",
    "    x_coords= grid,\n",
    "    approx_solve= approx_solution_inf,\n",
    "    title= f\"Поведение численного решения. Шум {int(noise_level * 100)}%\"\n",
    ")\n",
    "\n"
   ],
   "metadata": {
    "collapsed": false,
    "pycharm": {
     "name": "#%%\n"
    }
   }
  },
  {
   "cell_type": "code",
   "execution_count": 1150,
   "outputs": [
    {
     "name": "stdout",
     "output_type": "stream",
     "text": [
      "Погрешность 1.6297336266714457\n"
     ]
    }
   ],
   "source": [
    "print(f\"Погрешность {get_error(q_exact, approx_solution_inf, grid)}\")\n"
   ],
   "metadata": {
    "collapsed": false,
    "pycharm": {
     "name": "#%%\n"
    }
   }
  },
  {
   "cell_type": "code",
   "execution_count": 1151,
   "metadata": {},
   "outputs": [
    {
     "name": "stdout",
     "output_type": "stream",
     "text": [
      "1e-05\n",
      "1.1658859229285166\n"
     ]
    }
   ],
   "source": [
    "noise_level= 0.1\n",
    "param_set, errors = find_reg_param(\n",
    "    matrix, \n",
    "    f_true,\n",
    "    grid,\n",
    "    noise_level\n",
    ")\n",
    "\n"
   ]
  },
  {
   "cell_type": "code",
   "execution_count": 1152,
   "metadata": {},
   "outputs": [],
   "source": [
    "# plot_result(\n",
    "#     x_coords= param_set,\n",
    "#     y_coords= np.log(errors),\n",
    "#     xlabel= \"Параметр регуляризации\",\n",
    "#     ylabel= f\"Логарифм погрешности\"\n",
    "# )"
   ]
  },
  {
   "cell_type": "code",
   "execution_count": 1153,
   "metadata": {},
   "outputs": [],
   "source": [
    "approx_solution = Tikhonov_solver(matrix, f_true, noise_level, param_set[1])\n",
    "\n"
   ]
  },
  {
   "cell_type": "code",
   "execution_count": 1154,
   "metadata": {},
   "outputs": [],
   "source": [
    "# plot_comparison(\n",
    "#     x_coords= grid,\n",
    "#     approx_solve= approx_solution,\n",
    "#     title= f\"Поведение численного решения. Шум {int(noise_level * 100)}%\"\n",
    "# )\n",
    "\n"
   ]
  },
  {
   "cell_type": "code",
   "execution_count": 1155,
   "metadata": {},
   "outputs": [
    {
     "name": "stdout",
     "output_type": "stream",
     "text": [
      "Погрешность 1.3735245931334\n"
     ]
    }
   ],
   "source": [
    "print(f\"Погрешность {get_error(q_exact, approx_solution, grid)}\")\n",
    "\n"
   ]
  },
  {
   "cell_type": "code",
   "execution_count": 1155,
   "metadata": {},
   "outputs": [],
   "source": []
  }
 ],
 "metadata": {
  "kernelspec": {
   "display_name": "Python 3 (ipykernel)",
   "language": "python",
   "name": "python3"
  },
  "language_info": {
   "codemirror_mode": {
    "name": "ipython",
    "version": 3
   },
   "file_extension": ".py",
   "mimetype": "text/x-python",
   "name": "python",
   "nbconvert_exporter": "python",
   "pygments_lexer": "ipython3",
   "version": "3.8.5"
  },
  "varInspector": {
   "cols": {
    "lenName": 16,
    "lenType": 16,
    "lenVar": 40
   },
   "kernels_config": {
    "python": {
     "delete_cmd_postfix": "",
     "delete_cmd_prefix": "del ",
     "library": "var_list.py",
     "varRefreshCmd": "print(var_dic_list())"
    },
    "r": {
     "delete_cmd_postfix": ") ",
     "delete_cmd_prefix": "rm(",
     "library": "var_list.r",
     "varRefreshCmd": "cat(var_dic_list()) "
    }
   },
   "types_to_exclude": [
    "module",
    "function",
    "builtin_function_or_method",
    "instance",
    "_Feature"
   ],
   "window_display": false
  },
  "vscode": {
   "interpreter": {
    "hash": "99e2466adca547b38bae324044dadc614870f3b6427159ce5aca9d95f40b5817"
   }
  }
 },
 "nbformat": 4,
 "nbformat_minor": 2
}